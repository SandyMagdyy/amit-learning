{
 "cells": [
  {
   "cell_type": "markdown",
   "id": "0bc261e8",
   "metadata": {},
   "source": [
    "# EMAIL SLICER\n",
    "(**TASK**)"
   ]
  },
  {
   "cell_type": "code",
   "execution_count": 42,
   "id": "8f3029f9",
   "metadata": {},
   "outputs": [
    {
     "name": "stdout",
     "output_type": "stream",
     "text": [
      "your username is : info\n",
      "your domain is : gmail.com\n"
     ]
    }
   ],
   "source": [
    "email=(\"info@gmail.com\")\n",
    "print(\"your username is : \" + email[:email.index(\"@\")])\n",
    "print (\"your domain is : \" + email[email.index(\"@\")+1:])"
   ]
  },
  {
   "cell_type": "code",
   "execution_count": 52,
   "id": "a0015c77",
   "metadata": {},
   "outputs": [
    {
     "name": "stdout",
     "output_type": "stream",
     "text": [
      "your username is: sandyymagdy\n",
      "your domain is: gmail.com\n"
     ]
    }
   ],
   "source": [
    "email=(\"sandyymagdy@gmail.com\")\n",
    "print(\"your username is: \" + email[ :email.index(\"@\")])\n",
    "print(\"your domain is: \" + email[email.index(\"@\")+1 :])\n"
   ]
  }
 ],
 "metadata": {
  "kernelspec": {
   "display_name": "Python 3 (ipykernel)",
   "language": "python",
   "name": "python3"
  },
  "language_info": {
   "codemirror_mode": {
    "name": "ipython",
    "version": 3
   },
   "file_extension": ".py",
   "mimetype": "text/x-python",
   "name": "python",
   "nbconvert_exporter": "python",
   "pygments_lexer": "ipython3",
   "version": "3.10.6"
  }
 },
 "nbformat": 4,
 "nbformat_minor": 5
}
